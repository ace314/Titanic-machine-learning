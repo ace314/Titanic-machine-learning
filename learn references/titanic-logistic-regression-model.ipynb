{
 "cells": [
  {
   "cell_type": "code",
   "execution_count": 1,
   "metadata": {
    "_cell_guid": "b1076dfc-b9ad-4769-8c92-a6c4dae69d19",
    "_uuid": "8f2839f25d086af736a60e9eeb907d3b93b6e0e5",
    "execution": {
     "iopub.execute_input": "2023-06-15T02:14:24.268496Z",
     "iopub.status.busy": "2023-06-15T02:14:24.268106Z",
     "iopub.status.idle": "2023-06-15T02:14:24.276304Z",
     "shell.execute_reply": "2023-06-15T02:14:24.275066Z",
     "shell.execute_reply.started": "2023-06-15T02:14:24.268467Z"
    }
   },
   "outputs": [],
   "source": [
    "#Import Libraries\n",
    "\n",
    "import numpy as np # linear algebra\n",
    "import pandas as pd # data processing\n",
    "\n",
    "import matplotlib.pyplot as plt # data visualization\n",
    "import seaborn as sns # data visualization\n",
    "\n",
    "from sklearn.base import BaseEstimator, TransformerMixin # base classes (provide common functionality and methods for all transformers and estimators)\n",
    "from sklearn.impute import SimpleImputer # completing/replacing missing values\n",
    "from sklearn.preprocessing import OneHotEncoder # Machine Learning (One Hot Encoder Categorical Attributes)\n",
    "from sklearn.preprocessing import StandardScaler # Machine Learning (Scaling data) - Z-Score Normalization)\n",
    "from sklearn.pipeline import Pipeline # Machine Learning (Pipeline class for numerical features)\n",
    "from sklearn.compose import ColumnTransformer # Machine Learning (Transformation of: numerical features + categorical attributes)\n",
    "\n",
    "from sklearn.linear_model import LogisticRegression # Machine Learning (Logistic Regression)"
   ]
  },
  {
   "cell_type": "markdown",
   "metadata": {},
   "source": [
    "<div class=\"alert alert-block alert-warning\"><b>Point 0, 1, 2 and 3:</b> In following steps we are going to apply several tehcniques, methods or procedures to check and assess the training dataset. Furthermore, in these stages we are not going to modify or edit the training dataset.</div>"
   ]
  },
  {
   "cell_type": "markdown",
   "metadata": {},
   "source": [
    "# __0. Important__\n",
    "\n",
    "Type of machine learning system to build:\n",
    "\n",
    "1. Supervised Learning\n",
    "2. Batch Learning (also called \"offline learning\")\n",
    "3. Model-based learning"
   ]
  },
  {
   "cell_type": "markdown",
   "metadata": {},
   "source": [
    "# __1. Loading the Data - Training Dataset__"
   ]
  },
  {
   "cell_type": "code",
   "execution_count": 2,
   "metadata": {
    "execution": {
     "iopub.execute_input": "2023-06-15T01:58:58.436804Z",
     "iopub.status.busy": "2023-06-15T01:58:58.435866Z",
     "iopub.status.idle": "2023-06-15T01:58:58.465033Z",
     "shell.execute_reply": "2023-06-15T01:58:58.463803Z",
     "shell.execute_reply.started": "2023-06-15T01:58:58.436763Z"
    }
   },
   "outputs": [],
   "source": [
    "training_data = pd.read_csv(\"data/train.csv\")"
   ]
  },
  {
   "cell_type": "markdown",
   "metadata": {},
   "source": [
    "# __2. Exploratory Data Analysis (EDA) - Training Dataset__"
   ]
  },
  {
   "cell_type": "code",
   "execution_count": 3,
   "metadata": {},
   "outputs": [
    {
     "data": {
      "text/html": [
       "<div>\n",
       "<style scoped>\n",
       "    .dataframe tbody tr th:only-of-type {\n",
       "        vertical-align: middle;\n",
       "    }\n",
       "\n",
       "    .dataframe tbody tr th {\n",
       "        vertical-align: top;\n",
       "    }\n",
       "\n",
       "    .dataframe thead th {\n",
       "        text-align: right;\n",
       "    }\n",
       "</style>\n",
       "<table border=\"1\" class=\"dataframe\">\n",
       "  <thead>\n",
       "    <tr style=\"text-align: right;\">\n",
       "      <th></th>\n",
       "      <th>PassengerId</th>\n",
       "      <th>Survived</th>\n",
       "      <th>Pclass</th>\n",
       "      <th>Name</th>\n",
       "      <th>Sex</th>\n",
       "      <th>Age</th>\n",
       "      <th>SibSp</th>\n",
       "      <th>Parch</th>\n",
       "      <th>Ticket</th>\n",
       "      <th>Fare</th>\n",
       "      <th>Cabin</th>\n",
       "      <th>Embarked</th>\n",
       "    </tr>\n",
       "  </thead>\n",
       "  <tbody>\n",
       "    <tr>\n",
       "      <th>0</th>\n",
       "      <td>False</td>\n",
       "      <td>False</td>\n",
       "      <td>False</td>\n",
       "      <td>False</td>\n",
       "      <td>False</td>\n",
       "      <td>False</td>\n",
       "      <td>False</td>\n",
       "      <td>False</td>\n",
       "      <td>False</td>\n",
       "      <td>False</td>\n",
       "      <td>True</td>\n",
       "      <td>False</td>\n",
       "    </tr>\n",
       "    <tr>\n",
       "      <th>1</th>\n",
       "      <td>False</td>\n",
       "      <td>False</td>\n",
       "      <td>False</td>\n",
       "      <td>False</td>\n",
       "      <td>False</td>\n",
       "      <td>False</td>\n",
       "      <td>False</td>\n",
       "      <td>False</td>\n",
       "      <td>False</td>\n",
       "      <td>False</td>\n",
       "      <td>False</td>\n",
       "      <td>False</td>\n",
       "    </tr>\n",
       "    <tr>\n",
       "      <th>2</th>\n",
       "      <td>False</td>\n",
       "      <td>False</td>\n",
       "      <td>False</td>\n",
       "      <td>False</td>\n",
       "      <td>False</td>\n",
       "      <td>False</td>\n",
       "      <td>False</td>\n",
       "      <td>False</td>\n",
       "      <td>False</td>\n",
       "      <td>False</td>\n",
       "      <td>True</td>\n",
       "      <td>False</td>\n",
       "    </tr>\n",
       "    <tr>\n",
       "      <th>3</th>\n",
       "      <td>False</td>\n",
       "      <td>False</td>\n",
       "      <td>False</td>\n",
       "      <td>False</td>\n",
       "      <td>False</td>\n",
       "      <td>False</td>\n",
       "      <td>False</td>\n",
       "      <td>False</td>\n",
       "      <td>False</td>\n",
       "      <td>False</td>\n",
       "      <td>False</td>\n",
       "      <td>False</td>\n",
       "    </tr>\n",
       "    <tr>\n",
       "      <th>4</th>\n",
       "      <td>False</td>\n",
       "      <td>False</td>\n",
       "      <td>False</td>\n",
       "      <td>False</td>\n",
       "      <td>False</td>\n",
       "      <td>False</td>\n",
       "      <td>False</td>\n",
       "      <td>False</td>\n",
       "      <td>False</td>\n",
       "      <td>False</td>\n",
       "      <td>True</td>\n",
       "      <td>False</td>\n",
       "    </tr>\n",
       "    <tr>\n",
       "      <th>...</th>\n",
       "      <td>...</td>\n",
       "      <td>...</td>\n",
       "      <td>...</td>\n",
       "      <td>...</td>\n",
       "      <td>...</td>\n",
       "      <td>...</td>\n",
       "      <td>...</td>\n",
       "      <td>...</td>\n",
       "      <td>...</td>\n",
       "      <td>...</td>\n",
       "      <td>...</td>\n",
       "      <td>...</td>\n",
       "    </tr>\n",
       "    <tr>\n",
       "      <th>886</th>\n",
       "      <td>False</td>\n",
       "      <td>False</td>\n",
       "      <td>False</td>\n",
       "      <td>False</td>\n",
       "      <td>False</td>\n",
       "      <td>False</td>\n",
       "      <td>False</td>\n",
       "      <td>False</td>\n",
       "      <td>False</td>\n",
       "      <td>False</td>\n",
       "      <td>True</td>\n",
       "      <td>False</td>\n",
       "    </tr>\n",
       "    <tr>\n",
       "      <th>887</th>\n",
       "      <td>False</td>\n",
       "      <td>False</td>\n",
       "      <td>False</td>\n",
       "      <td>False</td>\n",
       "      <td>False</td>\n",
       "      <td>False</td>\n",
       "      <td>False</td>\n",
       "      <td>False</td>\n",
       "      <td>False</td>\n",
       "      <td>False</td>\n",
       "      <td>False</td>\n",
       "      <td>False</td>\n",
       "    </tr>\n",
       "    <tr>\n",
       "      <th>888</th>\n",
       "      <td>False</td>\n",
       "      <td>False</td>\n",
       "      <td>False</td>\n",
       "      <td>False</td>\n",
       "      <td>False</td>\n",
       "      <td>True</td>\n",
       "      <td>False</td>\n",
       "      <td>False</td>\n",
       "      <td>False</td>\n",
       "      <td>False</td>\n",
       "      <td>True</td>\n",
       "      <td>False</td>\n",
       "    </tr>\n",
       "    <tr>\n",
       "      <th>889</th>\n",
       "      <td>False</td>\n",
       "      <td>False</td>\n",
       "      <td>False</td>\n",
       "      <td>False</td>\n",
       "      <td>False</td>\n",
       "      <td>False</td>\n",
       "      <td>False</td>\n",
       "      <td>False</td>\n",
       "      <td>False</td>\n",
       "      <td>False</td>\n",
       "      <td>False</td>\n",
       "      <td>False</td>\n",
       "    </tr>\n",
       "    <tr>\n",
       "      <th>890</th>\n",
       "      <td>False</td>\n",
       "      <td>False</td>\n",
       "      <td>False</td>\n",
       "      <td>False</td>\n",
       "      <td>False</td>\n",
       "      <td>False</td>\n",
       "      <td>False</td>\n",
       "      <td>False</td>\n",
       "      <td>False</td>\n",
       "      <td>False</td>\n",
       "      <td>True</td>\n",
       "      <td>False</td>\n",
       "    </tr>\n",
       "  </tbody>\n",
       "</table>\n",
       "<p>891 rows × 12 columns</p>\n",
       "</div>"
      ],
      "text/plain": [
       "     PassengerId  Survived  Pclass   Name    Sex    Age  SibSp  Parch  Ticket  \\\n",
       "0          False     False   False  False  False  False  False  False   False   \n",
       "1          False     False   False  False  False  False  False  False   False   \n",
       "2          False     False   False  False  False  False  False  False   False   \n",
       "3          False     False   False  False  False  False  False  False   False   \n",
       "4          False     False   False  False  False  False  False  False   False   \n",
       "..           ...       ...     ...    ...    ...    ...    ...    ...     ...   \n",
       "886        False     False   False  False  False  False  False  False   False   \n",
       "887        False     False   False  False  False  False  False  False   False   \n",
       "888        False     False   False  False  False   True  False  False   False   \n",
       "889        False     False   False  False  False  False  False  False   False   \n",
       "890        False     False   False  False  False  False  False  False   False   \n",
       "\n",
       "      Fare  Cabin  Embarked  \n",
       "0    False   True     False  \n",
       "1    False  False     False  \n",
       "2    False   True     False  \n",
       "3    False  False     False  \n",
       "4    False   True     False  \n",
       "..     ...    ...       ...  \n",
       "886  False   True     False  \n",
       "887  False  False     False  \n",
       "888  False   True     False  \n",
       "889  False  False     False  \n",
       "890  False   True     False  \n",
       "\n",
       "[891 rows x 12 columns]"
      ]
     },
     "execution_count": 3,
     "metadata": {},
     "output_type": "execute_result"
    }
   ],
   "source": [
    "training_data.isnull()"
   ]
  },
  {
   "cell_type": "code",
   "execution_count": 4,
   "metadata": {
    "execution": {
     "iopub.execute_input": "2023-06-15T01:58:58.467095Z",
     "iopub.status.busy": "2023-06-15T01:58:58.466617Z",
     "iopub.status.idle": "2023-06-15T01:59:01.415929Z",
     "shell.execute_reply": "2023-06-15T01:59:01.414889Z",
     "shell.execute_reply.started": "2023-06-15T01:58:58.467065Z"
    }
   },
   "outputs": [
    {
     "name": "stdout",
     "output_type": "stream",
     "text": [
      "\n",
      "\u001b[1m \u001b[94m Shape of the dataframe: \u001b[0m (891, 12) \n",
      "\n",
      "\u001b[1m \u001b[94m Head of the dataframe: \u001b[0m \n",
      "\n",
      "   PassengerId  Survived  Pclass  \\\n",
      "0            1         0       3   \n",
      "1            2         1       1   \n",
      "2            3         1       3   \n",
      "3            4         1       1   \n",
      "4            5         0       3   \n",
      "\n",
      "                                                Name     Sex   Age  SibSp  \\\n",
      "0                            Braund, Mr. Owen Harris    male  22.0      1   \n",
      "1  Cumings, Mrs. John Bradley (Florence Briggs Th...  female  38.0      1   \n",
      "2                             Heikkinen, Miss. Laina  female  26.0      0   \n",
      "3       Futrelle, Mrs. Jacques Heath (Lily May Peel)  female  35.0      1   \n",
      "4                           Allen, Mr. William Henry    male  35.0      0   \n",
      "\n",
      "   Parch            Ticket     Fare Cabin Embarked  \n",
      "0      0         A/5 21171   7.2500   NaN        S  \n",
      "1      0          PC 17599  71.2833   C85        C  \n",
      "2      0  STON/O2. 3101282   7.9250   NaN        S  \n",
      "3      0            113803  53.1000  C123        S  \n",
      "4      0            373450   8.0500   NaN        S  \n",
      "\n",
      " \u001b[1m \u001b[94m Information of the dataframe: \u001b[0m \n",
      "\n",
      "<class 'pandas.core.frame.DataFrame'>\n",
      "RangeIndex: 891 entries, 0 to 890\n",
      "Data columns (total 12 columns):\n",
      " #   Column       Non-Null Count  Dtype  \n",
      "---  ------       --------------  -----  \n",
      " 0   PassengerId  891 non-null    int64  \n",
      " 1   Survived     891 non-null    int64  \n",
      " 2   Pclass       891 non-null    int64  \n",
      " 3   Name         891 non-null    object \n",
      " 4   Sex          891 non-null    object \n",
      " 5   Age          714 non-null    float64\n",
      " 6   SibSp        891 non-null    int64  \n",
      " 7   Parch        891 non-null    int64  \n",
      " 8   Ticket       891 non-null    object \n",
      " 9   Fare         891 non-null    float64\n",
      " 10  Cabin        204 non-null    object \n",
      " 11  Embarked     889 non-null    object \n",
      "dtypes: float64(2), int64(5), object(5)\n",
      "memory usage: 83.7+ KB\n",
      "\n",
      "\u001b[1m \u001b[94m Number and percentage of missing values per column: \u001b[0m\n",
      "\n",
      "             Missing    Percent\n",
      "PassengerId        0   0.000000\n",
      "Survived           0   0.000000\n",
      "Pclass             0   0.000000\n",
      "Name               0   0.000000\n",
      "Sex                0   0.000000\n",
      "Age              177  19.865320\n",
      "SibSp              0   0.000000\n",
      "Parch              0   0.000000\n",
      "Ticket             0   0.000000\n",
      "Fare               0   0.000000\n",
      "Cabin            687  77.104377\n",
      "Embarked           2   0.224467\n",
      "\n",
      "\u001b[1m \u001b[94m Summary statistics of the numerical columns: \u001b[0m\n",
      "\n",
      "       PassengerId    Survived      Pclass         Age       SibSp  \\\n",
      "count   891.000000  891.000000  891.000000  714.000000  891.000000   \n",
      "mean    446.000000    0.383838    2.308642   29.699118    0.523008   \n",
      "std     257.353842    0.486592    0.836071   14.526497    1.102743   \n",
      "min       1.000000    0.000000    1.000000    0.420000    0.000000   \n",
      "25%     223.500000    0.000000    2.000000   20.125000    0.000000   \n",
      "50%     446.000000    0.000000    3.000000   28.000000    0.000000   \n",
      "75%     668.500000    1.000000    3.000000   38.000000    1.000000   \n",
      "max     891.000000    1.000000    3.000000   80.000000    8.000000   \n",
      "\n",
      "            Parch        Fare  \n",
      "count  891.000000  891.000000  \n",
      "mean     0.381594   32.204208  \n",
      "std      0.806057   49.693429  \n",
      "min      0.000000    0.000000  \n",
      "25%      0.000000    7.910400  \n",
      "50%      0.000000   14.454200  \n",
      "75%      0.000000   31.000000  \n",
      "max      6.000000  512.329200  \n",
      "\n",
      "\u001b[1m \u001b[94m Histograms for the numerical columns: \u001b[0m\n",
      "\n"
     ]
    },
    {
     "data": {
      "image/png": "[encoded data removed]",
      "text/plain": [
       "<Figure size 700x700 with 9 Axes>"
      ]
     },
     "metadata": {},
     "output_type": "display_data"
    },
    {
     "name": "stdout",
     "output_type": "stream",
     "text": [
      "\n",
      "\u001b[1m \u001b[94m Boxplots for the numerical columns: \u001b[0m\n",
      "\n"
     ]
    },
    {
     "data": {
      "image/png": "[encoded data removed]",
      "text/plain": [
       "<Figure size 500x500 with 1 Axes>"
      ]
     },
     "metadata": {},
     "output_type": "display_data"
    },
    {
     "name": "stdout",
     "output_type": "stream",
     "text": [
      "\n",
      "\u001b[1m \u001b[94m Standard Correlation Coefficient of the numerical columns: \u001b[0m\n",
      "\n",
      "             PassengerId  Survived    Pclass       Age     SibSp     Parch  \\\n",
      "PassengerId     1.000000 -0.005007 -0.035144  0.036847 -0.057527 -0.001652   \n",
      "Survived       -0.005007  1.000000 -0.338481 -0.077221 -0.035322  0.081629   \n",
      "Pclass         -0.035144 -0.338481  1.000000 -0.369226  0.083081  0.018443   \n",
      "Age             0.036847 -0.077221 -0.369226  1.000000 -0.308247 -0.189119   \n",
      "SibSp          -0.057527 -0.035322  0.083081 -0.308247  1.000000  0.414838   \n",
      "Parch          -0.001652  0.081629  0.018443 -0.189119  0.414838  1.000000   \n",
      "Fare            0.012658  0.257307 -0.549500  0.096067  0.159651  0.216225   \n",
      "\n",
      "                 Fare  \n",
      "PassengerId  0.012658  \n",
      "Survived     0.257307  \n",
      "Pclass      -0.549500  \n",
      "Age          0.096067  \n",
      "SibSp        0.159651  \n",
      "Parch        0.216225  \n",
      "Fare         1.000000  \n",
      "\n",
      "\u001b[1m \u001b[94m Correlation matrix for the numerical columns: \u001b[0m\n",
      "\n"
     ]
    },
    {
     "data": {
      "image/png": "[encoded data removed]",
      "text/plain": [
       "<Figure size 640x480 with 2 Axes>"
      ]
     },
     "metadata": {},
     "output_type": "display_data"
    }
   ],
   "source": [
    "def EDA(training_data):  \n",
    "    # Print the \"shape\" of the dataframe\n",
    "    # '\\033[1m' : folliwing text BOLD\n",
    "    # '\\033[94m' : following text BLUE\n",
    "    # '\\033[0m' : reset the font style\n",
    "    print(\"\\n\" +'\\033[1m','\\033[94m',\"Shape of the dataframe:\",'\\033[0m', training_data.shape, \"\\n\")\n",
    "    \n",
    "    # Print the \"head\" of the dataframe\n",
    "    print('\\033[1m','\\033[94m',\"Head of the dataframe:\",'\\033[0m', \"\\n\")\n",
    "    print(training_data.head())\n",
    "\n",
    "    # Print the \"general information\" of the dataframe\n",
    "    print(\"\\n\", '\\033[1m','\\033[94m',\"Information of the dataframe:\",'\\033[0m', \"\\n\")\n",
    "    training_data.info()\n",
    "\n",
    "    # Print the \"number and percentage\" of missing values per column\" of the dataframe\n",
    "    print(\"\\n\" +'\\033[1m','\\033[94m', \"Number and percentage of missing values per column:\", '\\033[0m' + \"\\n\")\n",
    "    missing = training_data.isnull().sum()\n",
    "    percent = missing / training_data.shape[0] * 100\n",
    "    print(pd.concat([missing, percent], axis=1, keys=[\"Missing\", \"Percent\"]))\n",
    "\n",
    "    # Print the \"summary statistics of the numerical columns\" of the dataframe\n",
    "    print(\"\\n\" +'\\033[1m','\\033[94m', \"Summary statistics of the numerical columns:\", '\\033[0m' + \"\\n\")\n",
    "    print(training_data.describe())  \n",
    "\n",
    "    # Plot \"histograms for the numerical columns\" of the dataframe\n",
    "    print(\"\\n\" +'\\033[1m','\\033[94m',\"Histograms for the numerical columns:\", '\\033[0m' + \"\\n\")\n",
    "    training_data.hist(bins= 50, figsize=(7,7),color= \"Crimson\")\n",
    "    plt.show()  \n",
    "\n",
    "    # Plot \"boxplots for the numerical columns\" of the dataframe\n",
    "    print(\"\\n\" +'\\033[1m','\\033[94m',\"Boxplots for the numerical columns:\", '\\033[0m' + \"\\n\")\n",
    "    training_data.boxplot(figsize=(5,5), rot=90, color= \"Crimson\")\n",
    "    plt.show()\n",
    "\n",
    "    # Print the \"Standard Correlation Coefficient (also called, \"Pearson's Correlation Coefficient\") of the numerical columns\" of the dataframe\n",
    "    print(\"\\n\" +'\\033[1m','\\033[94m', \"Standard Correlation Coefficient of the numerical columns:\", '\\033[0m' + \"\\n\")\n",
    "    print(training_data.corr())    \n",
    "\n",
    "    # Plot \"heatmap of the Standard Correlation Coefficient (also called, \"Pearson's Correlation Coefficient\") of the numerical columns\" of the dataframe\n",
    "    print(\"\\n\" +'\\033[1m','\\033[94m', \"Correlation matrix for the numerical columns:\", '\\033[0m' + \"\\n\")\n",
    "    corr = training_data.corr()\n",
    "    sns.heatmap(corr, annot = True, cmap=\"Spectral\")\n",
    "    plt.show()\n",
    "    \n",
    "# Call the function\n",
    "EDA(training_data)"
   ]
  },
  {
   "cell_type": "markdown",
   "metadata": {},
   "source": [
    "# __3. Conclusions of the EDA - Training Dataset__\n",
    "\n",
    "__The assessment of the previous outputs allows us to describe the following__:\n",
    "\n",
    "1. The \"Standard Correlation Coefficient\" (table and graph) shows us two (2) features that have high correlations with the target variable (i.e. \"Survived\"). Those features are: \n",
    "\n",
    "> \"Pclass\"\n",
    "\n",
    "> \"Fare\"\n",
    "\n",
    "2. The \"Standard Correlation Coefficient\" (table and graph) shows us two (2) features that have high correlations with the feature \"Pclass\". Those features are: \n",
    "\n",
    "> \"Fare\"\n",
    "\n",
    "> \"Age\"\n",
    "\n",
    "3. The \"Standard Correlation Coefficient\" (table and graph) shows us one (1) feature that have high correlation with the feature \"Age\". This features is: \n",
    "\n",
    "> \"SibSp\"\n",
    "\n",
    "4. The \"Standard Correlation Coefficient\" (table and graph) shows us one (1) feature that have high correlation with the feature \"SibSp\". This features is: \n",
    "\n",
    "> \"Parch\"\n",
    "\n",
    "5. The training dataset has interesting categorical attributes such as \"Sex\" (data type: object) and \"Pclass\" (data type: int64) which have several categories.\n",
    "\n",
    "6. The \"Boxplots for the numerical columns\", \"Histograms for the numerical columns\" and \"Summary statistics of the numerical columns\" show us that it will be necessary to apply \"Feature Scaling\" in some numerical attributes. \n",
    "\n",
    "> For instance, we can see that the mean values of features such as \"Fare\" and \"Age\" are much larger than the mean value of the feature \"Pclass\".\n",
    "\n",
    "> The histograms of the features \"Fare\" and \"Age\" looks like tail-heavy.\n",
    "\n",
    "7. The \"Information of the dataframe\" shows us that it will be necessary to deal with \"Null Values\" in feature \"Age\"."
   ]
  },
  {
   "cell_type": "markdown",
   "metadata": {},
   "source": [
    "__Data Dictionary__:\n",
    "\n",
    "1. Survived (0 = No, 1 = Yes)\n",
    "\n",
    "2. Pclass: Ticket class (1 = 1st, 2 = 2nd, 3 = 3rd)\n",
    "\n",
    "3. Sex (male, female)\n",
    "\n",
    "4. Age (years)\n",
    "\n",
    "5. SibSp: number of siblings / spouses aboard the Titanic.\n",
    " \n",
    "6. Parch: number of parents / children aboard the Titanic.\n",
    "\n",
    "> Some children travelled only with a nanny, therefore \"Parch = 0\" for them.\n",
    "\n",
    "7. Ticket: ticket number\n",
    "\n",
    "8. Fare: passenger fare\n",
    "\n",
    "9. Cabin: cabin number\n",
    "\n",
    "10. Embarked (Port of Embarkation (C = Cherbourg, Q = Queenstown, S = Southampton))"
   ]
  },
  {
   "cell_type": "markdown",
   "metadata": {},
   "source": [
    "### __Tips #1__"
   ]
  },
  {
   "cell_type": "code",
   "execution_count": 5,
   "metadata": {
    "execution": {
     "iopub.execute_input": "2023-06-15T01:59:01.419708Z",
     "iopub.status.busy": "2023-06-15T01:59:01.41926Z",
     "iopub.status.idle": "2023-06-15T01:59:01.424468Z",
     "shell.execute_reply": "2023-06-15T01:59:01.423424Z",
     "shell.execute_reply.started": "2023-06-15T01:59:01.419667Z"
    }
   },
   "outputs": [],
   "source": [
    "#The code '\\033[1m' and '\\033[0m' allows me:\n",
    "    #Use bold text in the printed text {inside the function print()}    \n",
    "    \n",
    "#The code '\\033[94m' allows me:\n",
    "    #Use the color blue in the printed text {inside the function print()}    \n",
    "    \n",
    "#The code \"\\n\" allows me to a:\n",
    "    #Line break   "
   ]
  },
  {
   "cell_type": "markdown",
   "metadata": {},
   "source": [
    "<div class=\"alert alert-block alert-danger\"><b>Points from 4 to 10:</b> In the following steps, we are going to apply several techniques, methods, or procedures to modify or edit the training dataset. To be specific, we will focus on the most interesting and relevant features of the training set.</div>"
   ]
  },
  {
   "cell_type": "markdown",
   "metadata": {},
   "source": [
    "# __4. Visualize the Data - Training Dataset__"
   ]
  },
  {
   "cell_type": "code",
   "execution_count": 6,
   "metadata": {},
   "outputs": [
    {
     "data": {
      "text/plain": [
       "<seaborn.axisgrid.FacetGrid at 0x2aac7b85c88>"
      ]
     },
     "execution_count": 6,
     "metadata": {},
     "output_type": "execute_result"
    },
    {
     "data": {
      "image/png": "[encoded data removed]",
      "text/plain": [
       "<Figure size 572.111x500 with 1 Axes>"
      ]
     },
     "metadata": {},
     "output_type": "display_data"
    }
   ],
   "source": [
    "    #stat : could be {“count”, “frequency”, “probability”, “percent”, \"density\"} \n",
    "        #Aggregate statistic to compute in each bin.\n",
    "\n",
    "    #multiple: could be {“layer”, “dodge”, “stack”, “fill”}\n",
    "\n",
    "sns.displot(training_data, x=\"Pclass\", hue=\"Survived\", multiple=\"stack\",stat = \"count\")"
   ]
  },
  {
   "cell_type": "code",
   "execution_count": 7,
   "metadata": {
    "execution": {
     "iopub.execute_input": "2023-06-15T01:59:01.426348Z",
     "iopub.status.busy": "2023-06-15T01:59:01.425886Z",
     "iopub.status.idle": "2023-06-15T01:59:05.377268Z",
     "shell.execute_reply": "2023-06-15T01:59:05.37619Z",
     "shell.execute_reply.started": "2023-06-15T01:59:01.42631Z"
    }
   },
   "outputs": [
    {
     "data": {
      "text/plain": [
       "<seaborn.axisgrid.FacetGrid at 0x2aac82b6898>"
      ]
     },
     "execution_count": 7,
     "metadata": {},
     "output_type": "execute_result"
    },
    {
     "data": {
      "image/png": "[encoded data removed]",
      "text/plain": [
       "<Figure size 572.111x500 with 1 Axes>"
      ]
     },
     "metadata": {},
     "output_type": "display_data"
    },
    {
     "data": {
      "image/png": "[encoded data removed]",
      "text/plain": [
       "<Figure size 572.111x500 with 1 Axes>"
      ]
     },
     "metadata": {},
     "output_type": "display_data"
    },
    {
     "data": {
      "image/png": "[encoded data removed]",
      "text/plain": [
       "<Figure size 558.875x500 with 1 Axes>"
      ]
     },
     "metadata": {},
     "output_type": "display_data"
    },
    {
     "data": {
      "image/png": "[encoded data removed]",
      "text/plain": [
       "<Figure size 558.875x500 with 1 Axes>"
      ]
     },
     "metadata": {},
     "output_type": "display_data"
    }
   ],
   "source": [
    "#Plotting histograms of some features with high correlation according to the \"Standard Correlation Coefficient (also called, \"Pearson's Correlation Coefficient\").\n",
    "\n",
    "    #displot: Is a figure-level function that plots one or more histograms on a grid object. In other words, it can be used to create multiple subplots with different subsets of the data.\n",
    "\n",
    "    #hue : Semantic variable that is mapped to determine the color of plot elements. In other words, it is like a third element or feature in the histogram.\n",
    "\n",
    "    #stat : could be {“count”, “frequency”, “probability”, “percent”, \"density\"} \n",
    "        #Aggregate statistic to compute in each bin.\n",
    "\n",
    "    #multiple: could be {“layer”, “dodge”, “stack”, “fill”}\n",
    "        #Approach to resolving multiple elements when semantic mapping creates subsets.\n",
    "\n",
    "#Histograms of the features with the highest correlations with the target variable (i.e. \"Survived\")\n",
    "\n",
    "sns.displot(training_data, x=\"Pclass\", hue=\"Survived\", multiple=\"stack\",stat = \"count\")\n",
    "sns.displot(training_data, x=\"Fare\", hue=\"Survived\", multiple=\"stack\", stat = \"count\")\n",
    "\n",
    "#Histograms of the features with the highest correlations with the feature \"Pclass\"\n",
    "\n",
    "sns.displot(training_data, x=\"Fare\", hue=\"Pclass\", multiple=\"stack\", stat = \"count\")\n",
    "sns.displot(training_data, x=\"Age\", hue=\"Pclass\", multiple=\"stack\", stat = \"count\")"
   ]
  },
  {
   "cell_type": "markdown",
   "metadata": {},
   "source": [
    "# __5. Separating the Data - Training Dataset__"
   ]
  },
  {
   "cell_type": "code",
   "execution_count": 8,
   "metadata": {
    "execution": {
     "iopub.execute_input": "2023-06-15T02:00:33.331925Z",
     "iopub.status.busy": "2023-06-15T02:00:33.331485Z",
     "iopub.status.idle": "2023-06-15T02:00:33.340856Z",
     "shell.execute_reply": "2023-06-15T02:00:33.33951Z",
     "shell.execute_reply.started": "2023-06-15T02:00:33.331893Z"
    }
   },
   "outputs": [],
   "source": [
    "#Making a copy of the original training dataset.\n",
    "training_data2 = training_data.copy()\n",
    "\n",
    "#Separating the \"features\" from the \"labels\" (also called \"target value\") of the training dataset\n",
    "    #Because we do not want to apply the same transformations to the \"target values\"and \"features\"\n",
    "    #Dataframe with only the \"features\" of the training dataset\n",
    "training_data2 = training_data2.drop(\"Survived\", axis=1)\n",
    "\n",
    "#Separating the \"numerical features\" from the \"categorical features\" of the training dataset\n",
    "    #Dataframe with only the \"numerical features\" of the training dataset\n",
    "training_data2_numfeatures = training_data2.drop([\"Name\",\"Sex\",\"Ticket\",\"Cabin\",\"Embarked\"], axis=1)"
   ]
  },
  {
   "cell_type": "markdown",
   "metadata": {},
   "source": [
    "# __6. Data Cleaning - Training Dataset (only certain numerical features)__"
   ]
  },
  {
   "cell_type": "markdown",
   "metadata": {},
   "source": [
    "From section \"__2. Exploratory Data Analysis (EDA) - Training Dataset__\" we know which attributes have NA values. They are the following:\n",
    "> Age (numerical attribute)\n",
    "\n",
    "> Cabin\n",
    "\n",
    "> Embarked\n",
    "\n",
    "Four options to deal with missing values in \"Age (numerical attribute)\". Those options are the followings:\n",
    "1. __Option 1__: The dropna() method removes the rows that contains null values. \n",
    "\n",
    "2. __Option 2__: The \"drop()\" function is a drastic method in constrast with \"dropna(), because it gets rid of the whole attribute (i.e. the entire column).\n",
    "\n",
    "3. __Option 3__: The \"fillna()\" method replaces the null values with a specified value. \n",
    "\n",
    "4. __Option 4__: The scikit learn method called \"SimpleImputer()\". **This is the method that we are going to apply!**.\n",
    "\n",
    "> Main goal: Replace missing values using the mean, median, most frequent or a constant value along each column.\n",
    "\n",
    "**In conclusion, we are building an \"ESTIMATOR / TRANSFORMER\" (which contains a \"HYPERPARAMETER\"), that we are going to use in a future \"PIPELINE\"**\n",
    "\n",
    "> **ESTIMATOR / TRANSFORMER: \"SimpleImputer()\"**\n",
    "\n",
    "> **HYPERPARAMETER: \"strategy = median\"**"
   ]
  },
  {
   "cell_type": "code",
   "execution_count": 9,
   "metadata": {
    "execution": {
     "iopub.execute_input": "2023-06-15T01:59:05.415018Z",
     "iopub.status.busy": "2023-06-15T01:59:05.414562Z",
     "iopub.status.idle": "2023-06-15T01:59:05.470231Z",
     "shell.execute_reply": "2023-06-15T01:59:05.468891Z",
     "shell.execute_reply.started": "2023-06-15T01:59:05.414975Z"
    }
   },
   "outputs": [
    {
     "name": "stdout",
     "output_type": "stream",
     "text": [
      "\u001b[1m \u001b[94m Median values of each column \u001b[0m \n",
      "\n",
      "[446.       3.      28.       0.       0.      14.4542]\n",
      "\n",
      " \u001b[1m \u001b[94m Transformed Training Dataset Array (after data cleaning) \u001b[0m \n",
      "\n",
      "[[  1.       3.      22.       1.       0.       7.25  ]\n",
      " [  2.       1.      38.       1.       0.      71.2833]\n",
      " [  3.       3.      26.       0.       0.       7.925 ]\n",
      " ...\n",
      " [889.       3.      28.       1.       2.      23.45  ]\n",
      " [890.       1.      26.       0.       0.      30.    ]\n",
      " [891.       3.      32.       0.       0.       7.75  ]]\n",
      "\n",
      " \u001b[1m \u001b[94m Datatype of the Transformed Training Dataset Array (after data cleaning) \u001b[0m \n",
      "\n",
      "<class 'numpy.ndarray'>\n"
     ]
    }
   ],
   "source": [
    "#Establishing the \"imputer\" and its \"imputation strategy\".\n",
    "    #The \"imputer\" is the \"estimator\"\n",
    "    #In this case the imputation strategy is \"median\" (this is the \"hyperparameter\")\n",
    "    #In essence we are going to take all the \"missing values\" and replace them for the statistic \"median value\" of that column.\n",
    "imputer = SimpleImputer(strategy = \"median\")\n",
    "\n",
    "#Fitting the numerical data of the dataframe\n",
    "    #In essence, we want to estimate a parameter (\"median\" value) based on the dataset.\n",
    "    #\"training_data2_numfeatures\" was the output from section \"5. Separating the Data - Training Dataset\"\n",
    "imputer.fit(training_data2_numfeatures)\n",
    "\n",
    "#\"imputer.statistics_\" allows us to see the \"median\" values of each column of the analyzed dataframe.\n",
    "    #If we had \"missing values\" in another known feature different from \"Age\" (in this particular case), this code would be useful. \n",
    "        #A \"single underscore\" at the end of an \"estimator name\" indicates that it is an attribute that is set during fitting and stores some information about the model or the data.\n",
    "print('\\033[1m','\\033[94m',\"Median values of each column\",'\\033[0m', \"\\n\")\n",
    "print(imputer.statistics_)\n",
    "\n",
    "#Transforming the numerical data of the dataframe\n",
    "    #Using the trained \"imputer\" we are going to replace the \"missing values\" of feature \"Age\" (in this particular case) with the learned \"median\" values.\n",
    "print(\"\\n\",'\\033[1m','\\033[94m',\"Transformed Training Dataset Array (after data cleaning)\",'\\033[0m', \"\\n\")\n",
    "training_data2_cleaned = imputer.transform(training_data2_numfeatures)\n",
    "print(training_data2_cleaned)\n",
    "\n",
    "#Printing the \"Datatype of the Transformed Training Dataset for feature combination\" (just to check!)\n",
    "print(\"\\n\", '\\033[1m','\\033[94m',\"Datatype of the Transformed Training Dataset Array (after data cleaning)\",'\\033[0m', \"\\n\")\n",
    "print(type(training_data2_cleaned))"
   ]
  },
  {
   "cell_type": "markdown",
   "metadata": {},
   "source": [
    "# __7. Attribute Combination - Training Dataset (only certain numerical features)__"
   ]
  },
  {
   "cell_type": "markdown",
   "metadata": {},
   "source": [
    "__A bit of theory about building \"Custom Transformers\" (to understand how it works for this specific problem)__:\n",
    "\n",
    "__Part 0__\n",
    "\n",
    "0. The indices (\"1, 2, 5\") are the indices of the features (\"Pclass, Age, Fare\") that we are going to combine. Those indices allow us to access the corresponding columns of the data X (\"training_data2_numfeatures\") when the \"transform\" method is used.\n",
    "\n",
    "1. BaseEstimator: is the base class for all \"estimators\" in scikit-learn. It provides methods (which are useful for \"hyperparameter\" tuning) for getting and setting the \"parameters\" of the \"estimator\".\n",
    "\n",
    "> In essence we are creating a \"estimator\"\n",
    "\n",
    "2. TransformerMixin: is a mixin class for all \"transformers\" in scikit-learn. It provides the \"fit_transform\" method. \n",
    "\n",
    "> By inheriting from these two previous classes (\"BaseEstimator\" and \"TransformerMixin\"), a \"custom transformer\" can benefit from their methods and be compatible with other scikit-learn tools (pipelines, grid searches, and cross-validation)\n",
    "\n",
    "3. \"AttributeCombinator\" is the name of our \"custom class\" (obviously, it can be any name) that inherits from the base classes \"BaseEstimator\" and \"TransformerMixin\".\n",
    "\n",
    "4. Inside the newly created custom class (\"AttributeCombinator\"), we are going to define 3 basic \"methods/functions\". Those \"methods/functions\" are the followings:\n",
    "\n",
    "> init\n",
    "\n",
    "> fit\n",
    "\n",
    "> transformer\n",
    "\n",
    "5. The custom \"class\" (\"AttributeCombinator\") has a \"parameter/hyperparameter\" (\"Combination1\") - obviously, it can be any name - that will specify the type of feature combination that we want.\n",
    "\n",
    "__Part 1 (\"init\" function)__\n",
    "\n",
    "6. The \"init\" function is a special method/function that is automatically called when an \"object\" of the \"class\" (\"AttributeCombinator\") is created. It is used to initialize the \"parameter/hyperparameter\" (\"Combination1\") of the \"object\" (\"Attribute_Comb\"). \n",
    "\n",
    "> In the context of the current code, the \"init\" method of the class \"AttributeCombinator\" takes a \"parameter\" (\"Combination1\").\n",
    "\n",
    "> The \"init\" method assigns the value of the \"parameter/hyperparameter\" (\"Combination1\") to an \"attribute\" (\"self.Combination1\"). \n",
    "\n",
    "7. \"Self\" is a parameter that refers to the current \"object\" (\"Attribute_Comb\") of a \"class\" (\"AttributeCombinator\") and is required for all \"methods/functions\" of a \"class\". It is used to access or modify the \"attributes\" (\"self.Combination1\") or \"methods/functions\" (\"init\", \"fit\", and \"transform\").\n",
    "\n",
    "__Part 2 (\"fit\" function)__\n",
    "\n",
    "8. The \"fit\" method/function does nothing and returns the \"transformer object\".\n",
    "\n",
    "__Part 4 (\"transformer\" function)__\n",
    "\n",
    "10. The \"transform\" method/function uses \"self.Combination1\" to generates feature combinations based on the input data and returns the transformed data.\n",
    "\n",
    "> X[ : , Pclass] means to select all rows of the feature \"Pclass\" considering that X (\"training_data2_numfeatures\") is a dataframe.\n",
    "\n",
    "11. The code \"np.c_\" it is a shorthand for \"numpy.c_\", which joins two arrays by columns, as long as they have the same number of rows. In our code it is applied to add new columns to our training dataset (\"training_data2_numfeatures\") based on the attribute combinations we have defined.\n",
    "\n",
    "12. The code \"training_data2_numfeatures.values\" is used to convert the \"training_data2_numfeatures\" dataframe into a \"numpy array\". This is done because some sklearn functions (such as \"preprocessing.scale\"), require \"numpy arrays\" as inputs.\n",
    "\n",
    "> Therefore, the output of the application of the newly created custom transformer will be a Numpy array despite the fact that the input data was a dataframe.\n",
    "\n",
    "13. The \"parameter/hyperparameter\" (\"Combination1\"), is in this case a boolean \"parameter/hyperparameter\" that controls the number of feature combinations to apply. The \"object\" (\"Attribute_Comb\") is an instance of the class \"AttributeCombinator\" that is created by calling the \"class\" with a \"value\" (\"False or True\") for the \"parameter/hyperparameter\" (\"Combination1\").\n",
    "\n",
    "**In conclusion, we are building an \"ESTIMATOR / TRANSFORMER\" (which contains a \"HYPERPARAMETER\"), that we are going to use in a future \"PIPELINE\"**\n",
    "\n",
    "> **ESTIMATOR / TRANSFORMER: \"AttributeCombinator()\"**\n",
    "\n",
    "> **HYPERPARAMETER: \"Combination1\"**\n"
   ]
  },
  {
   "cell_type": "code",
   "execution_count": 10,
   "metadata": {
    "execution": {
     "iopub.execute_input": "2023-06-15T01:59:05.4723Z",
     "iopub.status.busy": "2023-06-15T01:59:05.471674Z",
     "iopub.status.idle": "2023-06-15T01:59:05.486626Z",
     "shell.execute_reply": "2023-06-15T01:59:05.485509Z",
     "shell.execute_reply.started": "2023-06-15T01:59:05.472267Z"
    }
   },
   "outputs": [
    {
     "name": "stdout",
     "output_type": "stream",
     "text": [
      "\u001b[1m \u001b[94m Transformed Training Dataset Array (after attribute combination) \u001b[0m \n",
      "\n",
      "[[  1.           3.          22.         ...   0.           7.25\n",
      "    2.41666667]\n",
      " [  2.           1.          38.         ...   0.          71.2833\n",
      "   71.2833    ]\n",
      " [  3.           3.          26.         ...   0.           7.925\n",
      "    2.64166667]\n",
      " ...\n",
      " [889.           3.                  nan ...   2.          23.45\n",
      "    7.81666667]\n",
      " [890.           1.          26.         ...   0.          30.\n",
      "   30.        ]\n",
      " [891.           3.          32.         ...   0.           7.75\n",
      "    2.58333333]]\n",
      "\n",
      " \u001b[1m \u001b[94m Datatype of the Transformed Training Dataset (after attribute combination) \u001b[0m \n",
      "\n",
      "<class 'numpy.ndarray'>\n"
     ]
    }
   ],
   "source": [
    "#Defining and building a custom transformer for \"Attribute Combination\"\n",
    "\n",
    "#Listing the indices of the choosen features for the process of attribute combination (based on the \"training_data2_numfeatures\" which was output from section \"5. Separating the Data - Training Dataset\")\n",
    "Pclass, Age, Fare= 1, 2, 5\n",
    "\n",
    "#Creating a class\n",
    "class AttributeCombinator(BaseEstimator, TransformerMixin):\n",
    "    # Defining an \"__init__\" method to initialize any paramnters or attributes\n",
    "    def __init__(self, Combination1=True):\n",
    "        self.Combination1 = Combination1\n",
    "\n",
    "    # Defining a \"fit\" method that returns self and does nothing else\n",
    "    def fit(self, X, y=None):\n",
    "        return self\n",
    "\n",
    "    # Defining a \"transform\" method that performs some transformation (to be specific attribute combinations) on X and returns it\n",
    "    def transform(self, X, y=None):\n",
    "        \n",
    "        #I use the code \"try\" and \"except\" to handle situations where the denominator of the division...\n",
    "        #...is zero. As a result, whenever the denominator is zero, I prevent the \"zerodivisionerror\"...\n",
    "        #...message from appearing and instead obtain a value of zero as the output for the division.\n",
    "        try:\n",
    "            fare_per_class = X[:, Fare] / X[:, Pclass]\n",
    "        except ZeroDivisionError:\n",
    "            fare_per_class = 0      \n",
    "        try:\n",
    "            age_per_class = X[:, Age]/ X[:, Pclass]\n",
    "        except ZeroDivisionError:\n",
    "            age_per_class = 0\n",
    "            \n",
    "        #The if-else statement helps to specify which feature combinations I want to see in the model.\n",
    "            #In the \"if statement\", the code will add to the training set one feature combination (\"fare_per_class\")\n",
    "        if self.Combination1:\n",
    "            # np.c_[] concatenates arrays along second axis \n",
    "            # np.r_[] concatenates arrays along first axis\n",
    "            return np.c_[X, fare_per_class]\n",
    "        \n",
    "            #In the \"else statement\", the code will add to the training set two feature combinations (\"fare_per_class\" and \"age_per_class\")\n",
    "        else:\n",
    "            return np.c_[X, fare_per_class, age_per_class]\n",
    "\n",
    "#Creating an object\n",
    "    #If the hyperparameter (\"Combination1\") is set \"True\", then the applied code will be the \"if-statement\".\n",
    "    #If the hyperparameter (\"Combination1\") is set \"False\", then the applied code will be the \"else-statement\".\n",
    "    #IMPORTANT 1: I choose the option of only one attribute combination (fare_per_class) setting \"Combination1=True\" in the \"transfom\" method/function.\n",
    "    #IMPORTANT 2: It will depend of the results of the model if I change my mind about the type of attribute combinations to choose.\n",
    "Attribute_Comb = AttributeCombinator(Combination1=True)\n",
    "\n",
    "#Creating a Numpy array\n",
    "    #Using the dataframe called \"training_data2_numfeatures\" which was output from section \"5. Separating the Data - Training Dataset\n",
    "    # DataFrame.values : return a numpy array of the DataFrame\n",
    "    # 利用物件Attribute_Comb內的函數transform擴充資料\n",
    "Training_Data_Extra_Attributes = Attribute_Comb.transform(training_data2_numfeatures.values)\n",
    "\n",
    "#Printing \"Transformed Training Dataset\" after \"attribute combination\"\n",
    "    #We can see that there is an additional column at the end of the array\n",
    "print('\\033[1m','\\033[94m',\"Transformed Training Dataset Array (after attribute combination)\",'\\033[0m', \"\\n\")\n",
    "print(Training_Data_Extra_Attributes)\n",
    "\n",
    "#Printing the \"Datatype of the Transformed Training Dataset after attribute combination\" (just to check!)\n",
    "print(\"\\n\", '\\033[1m','\\033[94m',\"Datatype of the Transformed Training Dataset (after attribute combination)\",'\\033[0m', \"\\n\")\n",
    "print(type(Training_Data_Extra_Attributes))"
   ]
  },
  {
   "cell_type": "markdown",
   "metadata": {},
   "source": [
    "# __8. Feature Scaling - Training Dataset (only certain numerical features)__"
   ]
  },
  {
   "cell_type": "markdown",
   "metadata": {},
   "source": [
    "1. Many ML algorithms are highly sensitive or do not work well when the features of the model (independent variables) have different scales (for instance: a feature has values between 3 and 7, other feature has values between 400 and 1000 and another feature of the same model has values between 10000 and 500000). Therefore, applying \"Feature Scaling\" (i.e. a transformation) allows us to normalize the features and makes ML problems easy to address by ML algorithms.\n",
    "\n",
    "> Based in what we see in the section __2. Exploratory Data Analysis (EDA) - Training Dataset__ we considered apply \"feature scaling\".\n",
    "\n",
    "2. It is recommended to apply the \"Feature Scaling\" procedure after the processes of \"Attribute Combination\" and \"Encoding Categorial/Text Attributes\".\n",
    "\n",
    "3. ML algorithms (for instance: linear regression, logistic regression, PCA, ANN,...) that use \"Gradient Descent\" as an optimization technique should be checked with \"Feature Scaling\" because in that way we are able to guarantee a regular size steps during the gradient descent process and properly convergence.\n",
    "\n",
    "4. Distance-based ML algorithms (for instance: SVM, KNN, K-means...) should be checked with \"Feture Scaling\" because they use distance between data points to show similarity between them.\n",
    "\n",
    "5. There are several ways to apply \"Feature Scaling\"; however, we are going to see the following two:\n",
    "\n",
    "5.1. __Normalization (also called \"Min - Max Scaling\")__ <-- <span style=\"color:black\">__This option is NOT DONE in this Notebook.__</span> \n",
    "\n",
    "> It adjusts the values of the features (numeric features) to end up ranging between 0 and 1.\n",
    "\n",
    "> It is sensitive to outliers points, because Normalization formula works with \"maximun\" and \"minimun\" values of the feature.\n",
    "\n",
    "> It is useful when the features have data distributions that do not follow a Gaussian Distribution or when there is no assumption about the data distributions of features.\n",
    "\n",
    "> It can be useful in \"Encoded Categorial/Text Attributes\" (One-Hot Encoding).\n",
    "\n",
    "5.2. __Standardization (also called \"Z-Score Normalization\")__ \n",
    "\n",
    "> It adjusts the values of the features (numeric features) to end up ranging between no specific values. It standardize values to have mean value equal to 0 and standard deviation of 1.\n",
    "\n",
    "> It is not sensitive to outliers in the data, because Standardization formula works with the \"mean\" and the \"standard deviation\" value of each the feature.\n",
    "\n",
    "> It is useful when the features have data distributions that looks (more or less) like a Gaussian Distribution.\n",
    "\n",
    "6. Feature scaling can affect both the \"features\" and the \"parameters\" of our model, depending on the type of scaling and the type of model (linear models, non-linear models, ...)\n",
    "\n",
    "7. Despite the conditions described previously, I would recommend train the ML algorithm using the \"raw training data\", \"normalize training data\", and \"standardize training data\". Then, check and compare the peformance of each model with error analysis.\n",
    "\n",
    "**In conclusion, we are building an \"ESTIMATOR / TRANSFORMER\", that we are going to use in a future \"PIPELINE\"**\n",
    "\n",
    "> **ESTIMATOR / TRANSFORMER: \"StandardScaler()\"**"
   ]
  },
  {
   "cell_type": "code",
   "execution_count": 11,
   "metadata": {
    "execution": {
     "iopub.execute_input": "2023-06-15T01:59:05.488559Z",
     "iopub.status.busy": "2023-06-15T01:59:05.488221Z",
     "iopub.status.idle": "2023-06-15T01:59:05.510461Z",
     "shell.execute_reply": "2023-06-15T01:59:05.509176Z",
     "shell.execute_reply.started": "2023-06-15T01:59:05.488532Z"
    }
   },
   "outputs": [
    {
     "name": "stdout",
     "output_type": "stream",
     "text": [
      "\n",
      " \u001b[1m \u001b[94m Transformed Training Dataset Array (after data scaling) \u001b[0m \n",
      "\n",
      "[[-1.73010796  0.82737724 -0.53037664  0.43279337 -0.47367361 -0.50244517]\n",
      " [-1.72622007 -1.56610693  0.57183099  0.43279337 -0.47367361  0.78684529]\n",
      " [-1.72233219  0.82737724 -0.25482473 -0.4745452  -0.47367361 -0.48885426]\n",
      " ...\n",
      " [ 1.72233219  0.82737724         nan  0.43279337  2.00893337 -0.17626324]\n",
      " [ 1.72622007 -1.56610693 -0.25482473 -0.4745452  -0.47367361 -0.04438104]\n",
      " [ 1.73010796  0.82737724  0.15850313 -0.4745452  -0.47367361 -0.49237783]]\n",
      "\n",
      " \u001b[1m \u001b[94m Datatype of the Transformed Training Dataset Array (after data scaling) \u001b[0m \n",
      "\n",
      "<class 'numpy.ndarray'>\n"
     ]
    }
   ],
   "source": [
    "#Fitting the numerical data of the dataframe\n",
    "    #In essence, we want to estimate parameters (\"mean\" and \"variance\" value) based on the numerical training dataset.\n",
    "    #\"training_data2_numfeatures\" was the output from section \"5. Separating the Data - Training Dataset\"\n",
    "scaler = StandardScaler().fit(training_data2_numfeatures)\n",
    "\n",
    "#Transforming the numerical data of the dataframe\n",
    "    #Using the trained \"scaler\" we are going to apply the feature scaling (standardization of the numerical data).\n",
    "print(\"\\n\",'\\033[1m','\\033[94m',\"Transformed Training Dataset Array (after data scaling)\",'\\033[0m', \"\\n\")\n",
    "training_data2_scaled = scaler.transform(training_data2_numfeatures)\n",
    "print(training_data2_scaled)\n",
    "\n",
    "#Printing the \"Datatype of the Transformed Training Dataset (after data scaling)\" (just to check!)\n",
    "print(\"\\n\", '\\033[1m','\\033[94m',\"Datatype of the Transformed Training Dataset Array (after data scaling)\",'\\033[0m', \"\\n\")\n",
    "print(type(training_data2_scaled))"
   ]
  },
  {
   "cell_type": "markdown",
   "metadata": {},
   "source": [
    "# __9. Handling Text and Categorical Attributes - Training Dataset (only one categorical attribute)__"
   ]
  },
  {
   "cell_type": "markdown",
   "metadata": {},
   "source": [
    "Using the technique \"One-Hot Encoding\" we are going to deal with \"text and categorical attributes\" (considering that most ML algorithms use to work better with numeric values only).\n",
    "\n",
    "Based on section __2. Exploratory Data Analysis (EDA) - Training Dataset__ we have the following:\n",
    "\n",
    "> The \"categorical attributes\" in our training dataset are: \"Sex\" and \"Embarked\".\n",
    "\n",
    "> The \"text attributes\" in our training dataset are: \"Name\", \"Ticket\", \"Cabin\".\n",
    "\n",
    "The categorical attribute \"Sex\" is the choosen one to be \"transformed or encoded\" from \"categories\" into \"numbers\".\n",
    "\n",
    "More information about the technique \"One-Hot Encoding\":\n",
    "\n",
    "> \"One-Hot Encoding\" creates a binary system (with the values 0 or 1) per category. If the category is chosen, then it will have the value 1 (one); therefore, all the other categories will have the value 0 (zero).\n",
    "\n",
    "> 1 (one) is hot and 0 (zero) is cold.\n",
    "\n",
    "> The output of the \"One-Hot Encoding\" procedure is a huge matrix full of zeros and just a couple of ones (per category). This type of matrix is known as \"Sparse Matrix\".\n",
    "\n",
    "**In conclusion, we are building an \"ESTIMATOR / TRANSFORMER\", that we are going to use in a future \"PIPELINE\"**\n",
    "\n",
    "> **ESTIMATOR / TRANSFORMER: \"OneHotEncoder()\"**\n"
   ]
  },
  {
   "cell_type": "code",
   "execution_count": 12,
   "metadata": {
    "execution": {
     "iopub.execute_input": "2023-06-15T01:59:05.512514Z",
     "iopub.status.busy": "2023-06-15T01:59:05.512048Z",
     "iopub.status.idle": "2023-06-15T01:59:05.533624Z",
     "shell.execute_reply": "2023-06-15T01:59:05.532515Z",
     "shell.execute_reply.started": "2023-06-15T01:59:05.512474Z"
    }
   },
   "outputs": [
    {
     "name": "stdout",
     "output_type": "stream",
     "text": [
      "\n",
      " \u001b[1m \u001b[94m Dense Numpy Array of the feature sex (handling categorical attributes) \u001b[0m \n",
      "\n",
      "[[0. 1.]\n",
      " [1. 0.]\n",
      " [1. 0.]\n",
      " ...\n",
      " [1. 0.]\n",
      " [0. 1.]\n",
      " [0. 1.]]\n",
      "\n",
      " \u001b[1m \u001b[94m Datatype of the Dense Numpy Array of the feature sex (after handling categorical attributes) \u001b[0m \n",
      "\n",
      "<class 'numpy.ndarray'>\n"
     ]
    }
   ],
   "source": [
    "#Separating the categorical attribute \"Sex\" from the training dataset.\n",
    "    #In this case a establishing a 2D array that is going to be used in the in the OneHotEncoder() transformer.\n",
    "    #\"training_data2\" was an input in the section \"5. Separating the Data - Training Dataset\"\n",
    "training_data2_sex = training_data2[[\"Sex\"]]\n",
    "\n",
    "#Applying \"One-Hot Encoding\" to the feature \"Sex\" of the training data set\n",
    "    #The ouput will be the following:\n",
    "        #A sparse matrix (891 rows)\n",
    "        #CSR(Compressed Sparse Row) is a type of Scipy sparse matrix  \n",
    "sex_encoder = OneHotEncoder()\n",
    "training_data2_OneHotencode = sex_encoder.fit_transform(training_data2_sex)\n",
    "\n",
    "#Transforming the \"Scipy Sparse Matrix\" into a \"Dense Numpy Array\"\n",
    "    #The ouput will be the following:\n",
    "        #Two columns of binary values in the array because there are only 2 categories (in this case \"female, male\").\n",
    "        #The columns in the array are returned alphabetically (in this case \"female, male\").\n",
    "print(\"\\n\", '\\033[1m','\\033[94m',\"Dense Numpy Array of the feature sex (handling categorical attributes)\",'\\033[0m', \"\\n\")\n",
    "print(training_data2_OneHotencode.toarray())\n",
    "\n",
    "#Printing the \"Datatype of the Transformed Training Dataset for handling categorical attributes\" (just to check!)\n",
    "print(\"\\n\", '\\033[1m','\\033[94m',\"Datatype of the Dense Numpy Array of the feature sex (after handling categorical attributes)\",'\\033[0m', \"\\n\")\n",
    "print(type(training_data2_OneHotencode.toarray()))"
   ]
  },
  {
   "cell_type": "markdown",
   "metadata": {},
   "source": [
    "# __10. Transformation Pipelines__"
   ]
  },
  {
   "cell_type": "markdown",
   "metadata": {},
   "source": [
    "## __10.1 Training Dataset (only certain numerical features)__"
   ]
  },
  {
   "cell_type": "markdown",
   "metadata": {},
   "source": [
    "In the previous steps were done the following transformations to the training dataset:\n",
    "\n",
    "> 6. Data Cleaning - Training Dataset (only certain numerical features)\n",
    "\n",
    "> 7. Attribute Combination - Training Dataset (only certain numerical features)\n",
    "\n",
    "> 8. Feature Scaling - Training Dataset (only certain numerical features)\n",
    "\n",
    "> 9. Handling Text and Categorical Attributes - Training Dataset\n",
    "\n",
    "Considering the listed transformations, we can save plenty of time using \"**Transformation Pipelines**\" which allow us to execute transformations of data in the right order with just a few lines of code.\n",
    "\n",
    "More information about \"**Transformation Pipelines**\": \n",
    "\n",
    "1. The order of transformations in the Pipeline matters.\n",
    "\n",
    "> The output of one \"estimator\" pass to next \"estimator\" until reach the final \"estimator\".\n",
    "\n",
    "> The final \"estimator\" must be a \"transformer\", i.e., must have  a \"fit_transform()\" method.\n",
    "\n",
    "2. The pair (\"name\",\"estimator\"(hyperparamenter))  are defined for every transformation. \n",
    "\n",
    "> The \"hyperparameter\" depends of the \"estimator\".\n",
    "\n",
    "In conclusion, the entire codes/comments of section \"**6. Data Cleaning - Training Dataset (only certain numerical features)**\" and section \"**8. Feature Scaling - Training Dataset (only certain numerical features)**\" were a **waste of time considering that a \"**Transformation Pipelines**\" do the same in just a few lines of code."
   ]
  },
  {
   "cell_type": "code",
   "execution_count": 13,
   "metadata": {
    "execution": {
     "iopub.execute_input": "2023-06-15T01:59:05.538338Z",
     "iopub.status.busy": "2023-06-15T01:59:05.53777Z",
     "iopub.status.idle": "2023-06-15T01:59:05.556464Z",
     "shell.execute_reply": "2023-06-15T01:59:05.555325Z",
     "shell.execute_reply.started": "2023-06-15T01:59:05.538298Z"
    }
   },
   "outputs": [
    {
     "name": "stdout",
     "output_type": "stream",
     "text": [
      "\n",
      " \u001b[1m \u001b[94m Array of certain numerical features (transformed by pipeline) \u001b[0m \n",
      "\n",
      "[[-1.73010796  0.82737724 -0.56573646 ... -0.50244517 -0.44184663\n",
      "  -0.66748321]\n",
      " [-1.72622007 -1.56610693  0.66386103 ...  0.78684529  0.90276285\n",
      "   1.5037077 ]\n",
      " [-1.72233219  0.82737724 -0.25833709 ... -0.48885426 -0.43745355\n",
      "  -0.57308361]\n",
      " ...\n",
      " [ 1.72233219  0.82737724 -0.1046374  ... -0.17626324 -0.33641254\n",
      "  -0.5258838 ]\n",
      " [ 1.72622007 -1.56610693 -0.25833709 ... -0.04438104  0.09671333\n",
      "   0.65411126]\n",
      " [ 1.73010796  0.82737724  0.20276197 ... -0.49237783 -0.4385925\n",
      "  -0.4314842 ]]\n",
      "\n",
      " \u001b[1m \u001b[94m Datatype of the Array of certain numerical features (transformed by pipeline) \u001b[0m \n",
      "\n",
      "<class 'numpy.ndarray'>\n",
      "\n",
      " \u001b[1m \u001b[94m Shape of the Array of certain numerical features (transformed by pipeline) \u001b[0m \n",
      "\n",
      "(891, 8)\n"
     ]
    }
   ],
   "source": [
    "#Defining the data that is going to used in the pipeline\n",
    "    #\"training_data2_numfeatures\" was the output from section \"5. Separating the Data - Training Dataset\"\n",
    "    #The only categorical attribute of interest is [\"Sex\"]\n",
    "\n",
    "#Defining the pipeline\n",
    "    #The pair (\"name\",\"estimator\"(\"hyperparameter\")  are defined for every transformation.    \n",
    "    #Intermediate steps of the pipeline must be ‘transforms’, that is, they must implement \n",
    "    #``fit`` and ``transform`` methods. The final estimator only needs to implement ``fit``. \n",
    "    # The transformers in the pipeline can be cached using ``memory`` argument.\n",
    "numerical_pipeline = Pipeline([(\"imputer\", SimpleImputer(strategy = \"median\")),\n",
    "                       (\"Attribute_Comb\", AttributeCombinator(Combination1=False)),\n",
    "                       (\"scaler\", StandardScaler())])\n",
    "\n",
    "#Applying the transformation through the pipeline\n",
    "num_pipeline_transformation = numerical_pipeline.fit_transform(training_data2_numfeatures)\n",
    "\n",
    "#Printing the \"Array of certain numerical features (transformed by pipeline)\" (just to check!)\n",
    "print(\"\\n\", '\\033[1m','\\033[94m',\"Array of certain numerical features (transformed by pipeline)\",'\\033[0m', \"\\n\")\n",
    "print(num_pipeline_transformation)\n",
    "\n",
    "#Printing the \"Datatype of the Array of certain numerical features (transformed by pipeline)\" (just to check!)\n",
    "print(\"\\n\", '\\033[1m','\\033[94m',\"Datatype of the Array of certain numerical features (transformed by pipeline)\",'\\033[0m', \"\\n\")\n",
    "print(type(num_pipeline_transformation))\n",
    "\n",
    "#Printing the \"Shape of the Array of certain numerical features (transformed by pipeline)\" (just to check!)\n",
    "    #If we set the hyperparameter \"Combination1 = True\" we are going to see 7 columns on the final transformed dataset.\n",
    "        #Columns:\n",
    "            #PassengerId\n",
    "            #Pclass\n",
    "            #Age\n",
    "            #SibSp\n",
    "            #Parch\n",
    "            #Fare\n",
    "            #fare_per_class\n",
    "    #If we set the hyperparameter \"Combination1 = False\" we are going to see 8 columns on the final transformed dataset.\n",
    "        #Columns:\n",
    "            #PassengerId\n",
    "            #Pclass\n",
    "            #Age\n",
    "            #SibSp\n",
    "            #Parch\n",
    "            #Fare\n",
    "            #fare_per_class\n",
    "            #age_per_class\n",
    "print(\"\\n\", '\\033[1m','\\033[94m',\"Shape of the Array of certain numerical features (transformed by pipeline)\",'\\033[0m', \"\\n\")\n",
    "print(num_pipeline_transformation.shape)"
   ]
  },
  {
   "cell_type": "markdown",
   "metadata": {},
   "source": [
    "## __10.2 Training Dataset (only certain numerical features + only certain categorical attribute)__"
   ]
  },
  {
   "cell_type": "code",
   "execution_count": 14,
   "metadata": {
    "execution": {
     "iopub.execute_input": "2023-06-15T01:59:05.558869Z",
     "iopub.status.busy": "2023-06-15T01:59:05.558159Z",
     "iopub.status.idle": "2023-06-15T01:59:05.587416Z",
     "shell.execute_reply": "2023-06-15T01:59:05.586143Z",
     "shell.execute_reply.started": "2023-06-15T01:59:05.558836Z"
    }
   },
   "outputs": [
    {
     "name": "stdout",
     "output_type": "stream",
     "text": [
      "\n",
      " \u001b[1m \u001b[94m Array of certain numerical + categorical feature (transformed by full pipeline) \u001b[0m \n",
      "\n",
      "[[-1.73010796  0.82737724 -0.56573646 ... -0.66748321  0.\n",
      "   1.        ]\n",
      " [-1.72622007 -1.56610693  0.66386103 ...  1.5037077   1.\n",
      "   0.        ]\n",
      " [-1.72233219  0.82737724 -0.25833709 ... -0.57308361  1.\n",
      "   0.        ]\n",
      " ...\n",
      " [ 1.72233219  0.82737724 -0.1046374  ... -0.5258838   1.\n",
      "   0.        ]\n",
      " [ 1.72622007 -1.56610693 -0.25833709 ...  0.65411126  0.\n",
      "   1.        ]\n",
      " [ 1.73010796  0.82737724  0.20276197 ... -0.4314842   0.\n",
      "   1.        ]]\n",
      "\n",
      " \u001b[1m \u001b[94m Datatype of the Array of certain numerical + categorical feature (transformed by full pipeline) \u001b[0m \n",
      "\n",
      "<class 'numpy.ndarray'>\n",
      "\n",
      " \u001b[1m \u001b[94m Shape of Array of certain numerical + categorical feature (transformed by full pipeline) \u001b[0m \n",
      "\n",
      "(891, 10)\n"
     ]
    }
   ],
   "source": [
    "#Defining the data that is going to used in the pipeline\n",
    "    #\"training_data2_numfeatures\" was the output from section \"5. Separating the Data - Training Dataset\"\n",
    "    #The only categorical attribute of interest is [\"Sex\"]\n",
    "numerical_features = list(training_data2_numfeatures)\n",
    "category_attributes = [\"Sex\"]\n",
    "\n",
    "#Defining the pipeline\n",
    "    #The triplet (\"name\",\"estimator\",\"data\")  are defined for every transformation. \n",
    "full_pipeline = ColumnTransformer([\n",
    "    (\"numerical\",numerical_pipeline,numerical_features),\n",
    "    (\"categorical\",OneHotEncoder(),category_attributes)    \n",
    "])\n",
    "\n",
    "#Applying the transformation through the pipeline\n",
    "training_fullprepared = full_pipeline.fit_transform(training_data2)\n",
    "\n",
    "#Printing the \"Array of certain numerical + categorical feature (transformed by pipeline)\" (just to check!)\n",
    "print(\"\\n\", '\\033[1m','\\033[94m',\"Array of certain numerical + categorical feature (transformed by full pipeline)\",'\\033[0m', \"\\n\")\n",
    "print(training_fullprepared)\n",
    "\n",
    "#Printing the \"Type of the Array of certain numerical + categorical feature (transformed by pipeline)\" (just to check!)\n",
    "print(\"\\n\", '\\033[1m','\\033[94m',\"Datatype of the Array of certain numerical + categorical feature (transformed by full pipeline)\",'\\033[0m', \"\\n\")\n",
    "print(type(training_fullprepared))\n",
    "\n",
    "#Printing the \"Shape of the Array of certain numerical + categorical features (transformed by pipeline)\" (just to check!)\n",
    "    #If we set the hyperparameter \"Combination1 = True\" we are going to see 9 columns on the final transformed dataset.\n",
    "        #Columns:\n",
    "            #PassengerId\n",
    "            #Pclass\n",
    "            #Age\n",
    "            #SibSp\n",
    "            #Parch\n",
    "            #Fare\n",
    "            #fare_per_class\n",
    "            #Sex (male)\n",
    "            #Sex (females)\n",
    "    #If we set the hyperparameter \"Combination1 = False\" we are going to see 10 columns on the final transformed dataset.\n",
    "        #Columns:\n",
    "            #PassengerId\n",
    "            #Pclass\n",
    "            #Age\n",
    "            #SibSp\n",
    "            #Parch\n",
    "            #Fare\n",
    "            #fare_per_class\n",
    "            #age_per_class\n",
    "            #Sex (male)\n",
    "            #Sex (females)\n",
    "print(\"\\n\", '\\033[1m','\\033[94m',\"Shape of Array of certain numerical + categorical feature (transformed by full pipeline)\",'\\033[0m', \"\\n\")\n",
    "print(training_fullprepared.shape)"
   ]
  },
  {
   "cell_type": "markdown",
   "metadata": {},
   "source": [
    "<div class=\"alert alert-block alert-info\"><b>Points 11 and 12:</b> In the following steps, we are going to apply several techniques, methods, or procedures to train and evaluate the training dataset. In addition, we will evaluate the test set.</div>"
   ]
  },
  {
   "cell_type": "markdown",
   "metadata": {},
   "source": [
    "## <span style=\"color:red\">__IMPORTANT: This is an Unfinished Notebook (I am still working on it!)__</span>"
   ]
  },
  {
   "cell_type": "markdown",
   "metadata": {},
   "source": [
    "# __11. Training and Evaluation of the Models - Training Dataset__"
   ]
  },
  {
   "cell_type": "code",
   "execution_count": 15,
   "metadata": {
    "execution": {
     "iopub.execute_input": "2023-06-15T04:04:00.265086Z",
     "iopub.status.busy": "2023-06-15T04:04:00.264688Z",
     "iopub.status.idle": "2023-06-15T04:04:00.273928Z",
     "shell.execute_reply": "2023-06-15T04:04:00.272637Z",
     "shell.execute_reply.started": "2023-06-15T04:04:00.265056Z"
    }
   },
   "outputs": [
    {
     "name": "stdout",
     "output_type": "stream",
     "text": [
      "\n",
      " \u001b[1m \u001b[94m Shape of Dataframe of certain numerical + categorical feature (transformed by full pipeline) \u001b[0m \n",
      "\n",
      "(891, 10)\n",
      "\n",
      " \u001b[1m \u001b[94m Shape of Dataframe of target value (training set) \u001b[0m \n",
      "\n",
      "(891,)\n"
     ]
    }
   ],
   "source": [
    "#Array of certain numerical + categorical feature (transformed by full pipeline)\n",
    "    #Then we transform this array into a dataframe (transformed by full pipeline)\n",
    "x_training = pd.DataFrame(training_fullprepared)\n",
    "\n",
    "print(\"\\n\", '\\033[1m','\\033[94m',\"Shape of Dataframe of certain numerical + categorical feature (transformed by full pipeline)\",'\\033[0m', \"\\n\")\n",
    "print(x_training.shape)\n",
    "\n",
    "#Dataframe of the feature \"Survived\" (i.e., the \"target value\" of the training set)\n",
    "y_training = (training_data[\"Survived\"])\n",
    "\n",
    "print(\"\\n\", '\\033[1m','\\033[94m',\"Shape of Dataframe of target value (training set)\",'\\033[0m', \"\\n\")\n",
    "print(y_training.shape)"
   ]
  },
  {
   "cell_type": "code",
   "execution_count": 16,
   "metadata": {
    "execution": {
     "iopub.execute_input": "2023-06-15T05:19:17.648739Z",
     "iopub.status.busy": "2023-06-15T05:19:17.648354Z",
     "iopub.status.idle": "2023-06-15T05:19:17.672166Z",
     "shell.execute_reply": "2023-06-15T05:19:17.670721Z",
     "shell.execute_reply.started": "2023-06-15T05:19:17.648712Z"
    }
   },
   "outputs": [
    {
     "name": "stdout",
     "output_type": "stream",
     "text": [
      "\n",
      " \u001b[1m \u001b[94m Datatype of the Array of the prediction values (training set) \u001b[0m \n",
      "\n",
      "<class 'numpy.ndarray'>\n",
      "\n",
      " \u001b[1m \u001b[94m Shape of the Array of the prediction values (training set) \u001b[0m \n",
      "\n",
      "(891,)\n"
     ]
    }
   ],
   "source": [
    "#Applying Logistic Regression\n",
    "logistic_reg = LogisticRegression()\n",
    "\n",
    "    #Fitting the model on the training set\n",
    "logistic_reg.fit(x_training, y_training)\n",
    "\n",
    "    #Predicting the labels on the training set\n",
    "y_prediction = logistic_reg.predict(x_training)\n",
    "\n",
    "print(\"\\n\", '\\033[1m','\\033[94m',\"Datatype of the Array of the prediction values (training set)\",'\\033[0m', \"\\n\")\n",
    "print(type(y_prediction))\n",
    "\n",
    "print(\"\\n\", '\\033[1m','\\033[94m',\"Shape of the Array of the prediction values (training set)\",'\\033[0m', \"\\n\")\n",
    "print(y_prediction.shape)"
   ]
  },
  {
   "cell_type": "code",
   "execution_count": 17,
   "metadata": {
    "execution": {
     "iopub.execute_input": "2023-06-15T05:14:11.88168Z",
     "iopub.status.busy": "2023-06-15T05:14:11.881309Z",
     "iopub.status.idle": "2023-06-15T05:14:11.890496Z",
     "shell.execute_reply": "2023-06-15T05:14:11.889185Z",
     "shell.execute_reply.started": "2023-06-15T05:14:11.881653Z"
    }
   },
   "outputs": [
    {
     "name": "stdout",
     "output_type": "stream",
     "text": [
      "Training accuracy:  0.7934904601571269\n"
     ]
    }
   ],
   "source": [
    "from sklearn.metrics import accuracy_score\n",
    "print(\"Training accuracy: \", accuracy_score(y_training, y_prediction))"
   ]
  },
  {
   "cell_type": "code",
   "execution_count": 18,
   "metadata": {
    "execution": {
     "iopub.execute_input": "2023-06-15T05:22:24.697482Z",
     "iopub.status.busy": "2023-06-15T05:22:24.697065Z",
     "iopub.status.idle": "2023-06-15T05:22:24.707186Z",
     "shell.execute_reply": "2023-06-15T05:22:24.705819Z",
     "shell.execute_reply.started": "2023-06-15T05:22:24.697452Z"
    }
   },
   "outputs": [
    {
     "name": "stdout",
     "output_type": "stream",
     "text": [
      "Training log-loss:  7.132662202971608\n"
     ]
    }
   ],
   "source": [
    "from sklearn.metrics import log_loss\n",
    "# Evaluate the model performance using log-loss\n",
    "print(\"Training log-loss: \", log_loss(y_training, y_prediction))"
   ]
  },
  {
   "cell_type": "markdown",
   "metadata": {},
   "source": [
    "# __12. Evaluation of the Model - Test Dataset__"
   ]
  },
  {
   "cell_type": "code",
   "execution_count": null,
   "metadata": {},
   "outputs": [],
   "source": []
  }
 ],
 "metadata": {
  "kernelspec": {
   "display_name": "Python 3 (ipykernel)",
   "language": "python",
   "name": "python3"
  },
  "language_info": {
   "codemirror_mode": {
    "name": "ipython",
    "version": 3
   },
   "file_extension": ".py",
   "mimetype": "text/x-python",
   "name": "python",
   "nbconvert_exporter": "python",
   "pygments_lexer": "ipython3",
   "version": "3.7.1"
  }
 },
 "nbformat": 4,
 "nbformat_minor": 4
}
